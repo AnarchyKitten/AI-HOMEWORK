{
 "cells": [
  {
   "cell_type": "code",
   "execution_count": 1,
   "metadata": {},
   "outputs": [],
   "source": [
    "from collections import Counter\n",
    "from copy import deepcopy\n",
    "from pprint import pprint"
   ]
  },
  {
   "cell_type": "code",
   "execution_count": 2,
   "metadata": {},
   "outputs": [],
   "source": [
    "def judge_unique(lis):\n",
    "    n=deepcopy(lis)\n",
    "    while 0 in n:\n",
    "        n.remove(0)\n",
    "    if len(n)!=len(set(n)):\n",
    "        return False\n",
    "    return True"
   ]
  },
  {
   "cell_type": "code",
   "execution_count": 3,
   "metadata": {},
   "outputs": [],
   "source": [
    "def get_unit(x,y):\n",
    "    return round((x-1)/3)+round((y-1)/3)*3, x-round((x-1)/3)*3+3*y-9*round((y-1)/3)"
   ]
  },
  {
   "cell_type": "code",
   "execution_count": 4,
   "metadata": {},
   "outputs": [],
   "source": [
    "class Shudoku:\n",
    "    column=[]\n",
    "    line=[]\n",
    "    unit=[]\n",
    "    \n",
    "    def __init__(self):\n",
    "        self.column=[[0 for i in range(9)] for j in range(9)]\n",
    "        self.line=[[0 for i in range(9)] for j in range(9)]\n",
    "        self.unit=[[0 for i in range(9)] for j in range(9)]\n",
    "        \n",
    "    def init_state(self,state):\n",
    "        for i in range(9):\n",
    "            for j in range(9):\n",
    "                self.set_value(j,i,state[i][j])\n",
    "        return True\n",
    "        \n",
    "    def set_value(self,x,y,value):\n",
    "        self.column[x][y]=value\n",
    "        self.line[y][x]=value\n",
    "        unit_x,unit_y=get_unit(x,y)\n",
    "        self.unit[unit_x][unit_y]=value\n",
    "        return True\n",
    "    \n",
    "    def judge_constraint(self):\n",
    "        for jtype in [self.column,self.line,self.unit]:\n",
    "            for i in jtype:\n",
    "                if judge_unique(i)==False:\n",
    "                    return False\n",
    "        return True\n",
    "    \n",
    "    def judge_one(self,x,y):\n",
    "        unit_x,unit_y=get_unit(x,y)\n",
    "        for i in [self.column[x],self.line[y],self.unit[unit_x]]:\n",
    "            if judge_unique(i)==False:\n",
    "                return False\n",
    "        return True\n",
    "    \n",
    "    def judge_done(self):\n",
    "        for i in self.column:\n",
    "            for j in i:\n",
    "                if j==0:\n",
    "                    return False\n",
    "        return True\n",
    "    \n",
    "    def print_state(self):\n",
    "        for i in self.line:\n",
    "            pprint(i)\n",
    "        return True"
   ]
  },
  {
   "cell_type": "code",
   "execution_count": 5,
   "metadata": {},
   "outputs": [],
   "source": [
    "class CSP:\n",
    "    step=0\n",
    "    queue=[]\n",
    "    answer=None\n",
    "    finished=None\n",
    "    \n",
    "    def __init__(self,shudoku):\n",
    "        self.queue=[[shudoku,0]]\n",
    "        self.finished=False\n",
    "    \n",
    "    def extend(self):\n",
    "        i=self.queue.pop()\n",
    "        #i[0].print_state()\n",
    "        #print(\"-------------------\")\n",
    "        if i[0].judge_done():\n",
    "            self.answer=i[0]\n",
    "            self.finished=True\n",
    "        for y in range(9):\n",
    "            for x in range(9):\n",
    "                if i[0].column[x][y]==0:\n",
    "                    for v in range(1,10):\n",
    "                        s=deepcopy(i[0])\n",
    "                        s.set_value(x,y,v)\n",
    "                        if s.judge_one(x,y):\n",
    "                            self.queue.append([s,i[1]+1])\n",
    "                    return True\n",
    "        return True\n",
    "    \n",
    "    def sort(self):\n",
    "        for i in range(len(self.queue)):\n",
    "            for j in range(i, len(self.queue)):\n",
    "                if self.queue[i][1]>self.queue[j][1]:\n",
    "                    temp=self.queue[i]\n",
    "                    self.queue[i]=self.queue[j]\n",
    "                    self.queue[j]=temp\n",
    "        return True\n",
    "\n",
    "    def run(self):\n",
    "        self.step=0\n",
    "        while (self.finished==False):\n",
    "            self.extend()\n",
    "            self.sort()\n",
    "            self.step+=1\n",
    "        self.answer.print_state()\n",
    "        print(\"Steps Count:\",self.step)"
   ]
  },
  {
   "cell_type": "code",
   "execution_count": null,
   "metadata": {},
   "outputs": [],
   "source": []
  },
  {
   "cell_type": "code",
   "execution_count": 6,
   "metadata": {},
   "outputs": [],
   "source": [
    "class BackJumpingShudoku:\n",
    "    column=[]\n",
    "    line=[]\n",
    "    unit=[]\n",
    "    all_conflict_set=[]\n",
    "    last_set=[]\n",
    "    \n",
    "    def __init__(self):\n",
    "        self.column=[[0 for i in range(9)] for j in range(9)]\n",
    "        self.line=[[0 for i in range(9)] for j in range(9)]\n",
    "        self.unit=[[0 for i in range(9)] for j in range(9)]\n",
    "        self.conflict_set=[[[]for i in range(9)]for j in range(9)]\n",
    "        self.all_conflict_set=[[[]for i in range(9)]for j in range(9)]\n",
    "        \n",
    "    def init_state(self,state):\n",
    "        for i in range(9):\n",
    "            for j in range(9):\n",
    "                self.set_value(i,j,state[i][j])\n",
    "        return True\n",
    "        \n",
    "    \n",
    "    def set_value(self,x,y,value):\n",
    "        self.column[x][y]=value\n",
    "        self.line[y][x]=value\n",
    "        unit_x,unit_y=get_unit(x,y)\n",
    "        self.unit[unit_x][unit_y]=value\n",
    "        \n",
    "        \n",
    "        for i in range(9):\n",
    "            for j in range(9):\n",
    "                unit_i,unit_j=get_unit(i,j)\n",
    "                if (i==x)|(j==y)|(unit_i==unit_x):\n",
    "                    self.all_conflict_set[i][j].append([value,[x,y]])\n",
    "        return True\n",
    "    \n",
    "    def judge_constraint(self):\n",
    "        for jtype in [self.column,self.line,self.unit]:\n",
    "            for i in jtype:\n",
    "                if judge_unique(i)==False:\n",
    "                    return False\n",
    "        return True\n",
    "    \n",
    "    def judge_one(self,x,y):\n",
    "        unit_x,unit_y=get_unit(x,y)\n",
    "        for i in [self.column[x],self.line[y],self.unit[unit_x]]:\n",
    "            if judge_unique(i)==False:\n",
    "                return False\n",
    "        return True\n",
    "    \n",
    "    def judge_one_conflict(self,x,y):\n",
    "        choice=[]\n",
    "        for i in self.all_conflict_set[x][y]:\n",
    "            if i[0]!=0:\n",
    "                choice.append(i[0])\n",
    "            if len(set(choice))==9:\n",
    "                return i[1]\n",
    "        else:\n",
    "            return None\n",
    "                \n",
    "    def judge_done(self):\n",
    "        for i in self.column:\n",
    "            for j in i:\n",
    "                if j==0:\n",
    "                    return False\n",
    "        return True\n",
    "    \n",
    "    def print_state(self):\n",
    "        for i in self.column:\n",
    "            pprint(i)\n",
    "        return True"
   ]
  },
  {
   "cell_type": "code",
   "execution_count": 7,
   "metadata": {},
   "outputs": [],
   "source": [
    "class BackJumpingCSP:\n",
    "    queue=[]\n",
    "    step=0\n",
    "    answer=None\n",
    "    finished=None\n",
    "    conflict=None\n",
    "    last=None\n",
    "    \n",
    "    def __init__(self,s):\n",
    "        self.queue=[[s,[0,0],0]]\n",
    "        self.finished=False\n",
    "    \n",
    "    def extend(self):\n",
    "        i=self.queue.pop()\n",
    "        self.last=i\n",
    "        #i[0].print_state()\n",
    "        #print(\"-------------------\")\n",
    "        if i[0].judge_done():\n",
    "            self.answer=i[0]\n",
    "            self.finished=True\n",
    "            \n",
    "        for y in range(9):\n",
    "            for x in range(9):\n",
    "                if i[0].column[x][y]==0:\n",
    "                    if len(i[0].all_conflict_set[x][y])>=9:\n",
    "                        if i[0].judge_one_conflict(x,y) is not None:\n",
    "                            self.conflict=i[0].judge_one_conflict(x,y)\n",
    "                            return False\n",
    "                    for v in range(1,10):\n",
    "                        s=deepcopy(i[0])\n",
    "                        s.set_value(x,y,v)\n",
    "                        if s.judge_one(x,y):\n",
    "                            self.queue.append([s,[x,y],v])\n",
    "                    return True\n",
    "        return True\n",
    "    \n",
    "    def sort(self):\n",
    "        for i in range(len(self.queue)):\n",
    "            for j in range(i, len(self.queue)):\n",
    "                if self.queue[i][1][1]>self.queue[j][1][1]:\n",
    "                    temp=self.queue[i]\n",
    "                    self.queue[i]=self.queue[j]\n",
    "                    self.queue[j]=temp\n",
    "                elif self.queue[i][1][1]==self.queue[j][1][1]:\n",
    "                    if self.queue[i][1][0]>self.queue[j][1][0]:\n",
    "                        temp=self.queue[i]\n",
    "                        self.queue[i]=self.queue[j]\n",
    "                        self.queue[j]=temp\n",
    "        return True\n",
    "\n",
    "\n",
    "    def backjumping(self):\n",
    "        #print(\"-------------------\")\n",
    "        #print(\"backJumping To\",self.conflict)\n",
    "        #print(\"-------------------\")\n",
    "        queue=[]\n",
    "        for i in self.queue:\n",
    "            if (i[1][1]<self.conflict[1]):\n",
    "                queue.append(i)\n",
    "            elif (i[1][1]==self.conflict[1])&(i[1][0]<=self.conflict[0]):\n",
    "                queue.append(i)\n",
    "        self.queue=queue\n",
    "        self.conflict=None\n",
    "        return True\n",
    "        \n",
    "    def run(self):\n",
    "        self.step=0\n",
    "        while (self.finished==False):\n",
    "            #print(self.queue)\n",
    "            extend=self.extend()\n",
    "            if extend==False:\n",
    "                self.backjumping()\n",
    "            self.sort()\n",
    "            self.step+=1\n",
    "        self.answer.print_state()\n",
    "        print(\"Steps Count:\",self.step)"
   ]
  },
  {
   "cell_type": "code",
   "execution_count": 8,
   "metadata": {},
   "outputs": [
    {
     "data": {
      "text/plain": [
       "True"
      ]
     },
     "execution_count": 8,
     "metadata": {},
     "output_type": "execute_result"
    }
   ],
   "source": [
    "easy_bjs=BackJumpingShudoku()\n",
    "easy_bjs.init_state(\n",
    "[[6, 0, 8, 7, 0, 2, 1, 0, 0],\n",
    "[4, 0, 0, 0, 1, 0, 0, 0, 2],\n",
    "[0, 2, 5, 4, 0, 0, 0, 0, 0],\n",
    "[7, 0, 1, 0, 8, 0, 4, 0, 5],\n",
    "[0, 8, 0, 0, 0, 0, 0, 7, 0],\n",
    "[5, 0, 9, 0, 6, 0, 3, 0, 1],\n",
    "[0, 0, 0, 0, 0, 6, 7, 5, 0],\n",
    "[2, 0, 0, 0, 9, 0, 0, 0, 8],\n",
    "[0, 0, 6, 8, 0, 5, 2, 0, 3]])"
   ]
  },
  {
   "cell_type": "code",
   "execution_count": 9,
   "metadata": {},
   "outputs": [
    {
     "data": {
      "text/plain": [
       "[[<__main__.BackJumpingShudoku at 0x111873438>, [0, 0], 0]]"
      ]
     },
     "execution_count": 9,
     "metadata": {},
     "output_type": "execute_result"
    }
   ],
   "source": [
    "easy_bjc=BackJumpingCSP(easy_bjs)\n",
    "easy_bjc.queue"
   ]
  },
  {
   "cell_type": "code",
   "execution_count": 10,
   "metadata": {},
   "outputs": [
    {
     "name": "stdout",
     "output_type": "stream",
     "text": [
      "[6, 9, 8, 7, 5, 2, 1, 3, 4]\n",
      "[4, 7, 3, 6, 1, 8, 5, 9, 2]\n",
      "[1, 2, 5, 4, 3, 9, 8, 6, 7]\n",
      "[7, 6, 1, 9, 8, 3, 4, 2, 5]\n",
      "[3, 8, 2, 5, 4, 1, 9, 7, 6]\n",
      "[5, 4, 9, 2, 6, 7, 3, 8, 1]\n",
      "[8, 3, 4, 1, 2, 6, 7, 5, 9]\n",
      "[2, 5, 7, 3, 9, 4, 6, 1, 8]\n",
      "[9, 1, 6, 8, 7, 5, 2, 4, 3]\n",
      "Steps Count: 96\n"
     ]
    }
   ],
   "source": [
    "easy_bjc.run()"
   ]
  },
  {
   "cell_type": "code",
   "execution_count": 11,
   "metadata": {},
   "outputs": [
    {
     "name": "stdout",
     "output_type": "stream",
     "text": [
      "[6, 9, 8, 7, 5, 2, 1, 3, 4]\n",
      "[4, 7, 3, 6, 1, 8, 5, 9, 2]\n",
      "[1, 2, 5, 4, 3, 9, 8, 6, 7]\n",
      "[7, 6, 1, 9, 8, 3, 4, 2, 5]\n",
      "[3, 8, 2, 5, 4, 1, 9, 7, 6]\n",
      "[5, 4, 9, 2, 6, 7, 3, 8, 1]\n",
      "[8, 3, 4, 1, 2, 6, 7, 5, 9]\n",
      "[2, 5, 7, 3, 9, 4, 6, 1, 8]\n",
      "[9, 1, 6, 8, 7, 5, 2, 4, 3]\n",
      "Steps Count: 169\n"
     ]
    }
   ],
   "source": [
    "easy_s=Shudoku()\n",
    "easy_s.init_state(\n",
    "[[6, 0, 8, 7, 0, 2, 1, 0, 0],\n",
    "[4, 0, 0, 0, 1, 0, 0, 0, 2],\n",
    "[0, 2, 5, 4, 0, 0, 0, 0, 0],\n",
    "[7, 0, 1, 0, 8, 0, 4, 0, 5],\n",
    "[0, 8, 0, 0, 0, 0, 0, 7, 0],\n",
    "[5, 0, 9, 0, 6, 0, 3, 0, 1],\n",
    "[0, 0, 0, 0, 0, 6, 7, 5, 0],\n",
    "[2, 0, 0, 0, 9, 0, 0, 0, 8],\n",
    "[0, 0, 6, 8, 0, 5, 2, 0, 3]])\n",
    "easy_c=CSP(easy_s)\n",
    "easy_c.run()"
   ]
  },
  {
   "cell_type": "code",
   "execution_count": null,
   "metadata": {},
   "outputs": [],
   "source": []
  },
  {
   "cell_type": "code",
   "execution_count": 12,
   "metadata": {},
   "outputs": [
    {
     "data": {
      "text/plain": [
       "True"
      ]
     },
     "execution_count": 12,
     "metadata": {},
     "output_type": "execute_result"
    }
   ],
   "source": [
    "evil_s=Shudoku()\n",
    "evil_s.init_state(\n",
    "[[0,7, 0, 0, 4, 2, 0, 0, 0],\n",
    "[0, 0, 0, 0, 0, 8, 6, 1, 0],\n",
    "[3, 9, 0, 0, 0, 0, 0, 0, 7],\n",
    "[0, 0, 0, 0, 0, 4, 0, 0, 9],\n",
    "[0, 0, 3, 0, 0, 0, 7, 0, 0],\n",
    "[5, 0, 0, 1, 0, 0, 0, 0, 0],\n",
    "[8, 0, 0, 0, 0, 0, 0, 7, 6],\n",
    "[0, 5, 4, 8, 0, 0, 0, 0, 0],\n",
    "[0, 0, 0, 6, 1, 0, 0, 5, 0]])"
   ]
  },
  {
   "cell_type": "code",
   "execution_count": 13,
   "metadata": {},
   "outputs": [
    {
     "name": "stdout",
     "output_type": "stream",
     "text": [
      "[1, 7, 6, 3, 4, 2, 9, 8, 5]\n",
      "[4, 2, 5, 9, 7, 8, 6, 1, 3]\n",
      "[3, 9, 8, 5, 6, 1, 4, 2, 7]\n",
      "[2, 6, 1, 7, 8, 4, 5, 3, 9]\n",
      "[9, 8, 3, 2, 5, 6, 7, 4, 1]\n",
      "[5, 4, 7, 1, 9, 3, 2, 6, 8]\n",
      "[8, 1, 9, 4, 2, 5, 3, 7, 6]\n",
      "[6, 5, 4, 8, 3, 7, 1, 9, 2]\n",
      "[7, 3, 2, 6, 1, 9, 8, 5, 4]\n",
      "Steps Count: 8965\n"
     ]
    }
   ],
   "source": [
    "evil_c=CSP(evil_s)\n",
    "evil_c.run()"
   ]
  },
  {
   "cell_type": "code",
   "execution_count": 14,
   "metadata": {},
   "outputs": [
    {
     "data": {
      "text/plain": [
       "True"
      ]
     },
     "execution_count": 14,
     "metadata": {},
     "output_type": "execute_result"
    }
   ],
   "source": [
    "evil_bjs=BackJumpingShudoku()\n",
    "evil_bjs.init_state(\n",
    "[[0,7, 0, 0, 4, 2, 0, 0, 0],\n",
    "[0, 0, 0, 0, 0, 8, 6, 1, 0],\n",
    "[3, 9, 0, 0, 0, 0, 0, 0, 7],\n",
    "[0, 0, 0, 0, 0, 4, 0, 0, 9],\n",
    "[0, 0, 3, 0, 0, 0, 7, 0, 0],\n",
    "[5, 0, 0, 1, 0, 0, 0, 0, 0],\n",
    "[8, 0, 0, 0, 0, 0, 0, 7, 6],\n",
    "[0, 5, 4, 8, 0, 0, 0, 0, 0],\n",
    "[0, 0, 0, 6, 1, 0, 0, 5, 0]])"
   ]
  },
  {
   "cell_type": "code",
   "execution_count": 15,
   "metadata": {},
   "outputs": [
    {
     "data": {
      "text/plain": [
       "[[<__main__.BackJumpingShudoku at 0x111fec438>, [0, 0], 0]]"
      ]
     },
     "execution_count": 15,
     "metadata": {},
     "output_type": "execute_result"
    }
   ],
   "source": [
    "evil_bjc=BackJumpingCSP(evil_bjs)\n",
    "evil_bjc.queue"
   ]
  },
  {
   "cell_type": "code",
   "execution_count": 16,
   "metadata": {},
   "outputs": [
    {
     "name": "stdout",
     "output_type": "stream",
     "text": [
      "[1, 7, 6, 3, 4, 2, 9, 8, 5]\n",
      "[4, 2, 5, 9, 7, 8, 6, 1, 3]\n",
      "[3, 9, 8, 5, 6, 1, 4, 2, 7]\n",
      "[2, 6, 1, 7, 8, 4, 5, 3, 9]\n",
      "[9, 8, 3, 2, 5, 6, 7, 4, 1]\n",
      "[5, 4, 7, 1, 9, 3, 2, 6, 8]\n",
      "[8, 1, 9, 4, 2, 5, 3, 7, 6]\n",
      "[6, 5, 4, 8, 3, 7, 1, 9, 2]\n",
      "[7, 3, 2, 6, 1, 9, 8, 5, 4]\n",
      "Steps Count: 2854\n"
     ]
    }
   ],
   "source": [
    "evil_bjc.run()"
   ]
  },
  {
   "cell_type": "code",
   "execution_count": null,
   "metadata": {},
   "outputs": [],
   "source": [
    "    "
   ]
  },
  {
   "cell_type": "code",
   "execution_count": 30,
   "metadata": {},
   "outputs": [],
   "source": [
    "lines = [[int(i) for i in line.rstrip('\\n').strip(\" \").split(\",\")]for line in open('easy.txt')]"
   ]
  },
  {
   "cell_type": "code",
   "execution_count": 31,
   "metadata": {},
   "outputs": [
    {
     "data": {
      "text/plain": [
       "[[6, 0, 8, 7, 0, 2, 1, 0, 0],\n",
       " [4, 0, 0, 0, 1, 0, 0, 0, 2],\n",
       " [0, 2, 5, 4, 0, 0, 0, 0, 0],\n",
       " [7, 0, 1, 0, 8, 0, 4, 0, 5],\n",
       " [0, 8, 0, 0, 0, 0, 0, 7, 0],\n",
       " [5, 0, 9, 0, 6, 0, 3, 0, 1],\n",
       " [0, 0, 0, 0, 0, 6, 7, 5, 0],\n",
       " [2, 0, 0, 0, 9, 0, 0, 0, 8],\n",
       " [0, 0, 6, 8, 0, 5, 2, 0, 3]]"
      ]
     },
     "execution_count": 31,
     "metadata": {},
     "output_type": "execute_result"
    }
   ],
   "source": [
    "lines"
   ]
  },
  {
   "cell_type": "code",
   "execution_count": null,
   "metadata": {},
   "outputs": [],
   "source": [
    "lines=[for i in l]"
   ]
  }
 ],
 "metadata": {
  "kernelspec": {
   "display_name": "Python 3",
   "language": "python",
   "name": "python3"
  },
  "language_info": {
   "codemirror_mode": {
    "name": "ipython",
    "version": 3
   },
   "file_extension": ".py",
   "mimetype": "text/x-python",
   "name": "python",
   "nbconvert_exporter": "python",
   "pygments_lexer": "ipython3",
   "version": "3.7.3"
  }
 },
 "nbformat": 4,
 "nbformat_minor": 2
}
