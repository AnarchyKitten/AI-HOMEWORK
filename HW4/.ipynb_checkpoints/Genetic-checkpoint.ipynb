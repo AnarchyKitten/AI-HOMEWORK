{
 "cells": [
  {
   "cell_type": "code",
   "execution_count": 209,
   "metadata": {},
   "outputs": [],
   "source": [
    "from random import random\n",
    "from random import randint\n",
    "from copy import deepcopy"
   ]
  },
  {
   "cell_type": "code",
   "execution_count": 210,
   "metadata": {},
   "outputs": [],
   "source": [
    "def mutation(chro):\n",
    "    chro = deepcopy(chro)\n",
    "    i = randint(0,len(chro))\n",
    "    chro[0]=1-chro[0]\n",
    "    return chro\n",
    "\n",
    "def crossover(chroA,chroB):\n",
    "    i= randint(0,len(chroA))\n",
    "    chro=chroA[0][:i]+chroB[0][i:]\n",
    "    return chro"
   ]
  },
  {
   "cell_type": "code",
   "execution_count": 211,
   "metadata": {},
   "outputs": [],
   "source": [
    "class Genetic:\n",
    "    Weight = [20, 30, 60, 90, 50, 70, 30]\n",
    "    Value = [6, 5, 8, 7, 6, 9, 4]\n",
    "    Limit = 120\n",
    "    Population = []\n",
    "    possibility_list = []\n",
    "    Genlimit = None\n",
    "    Size = None\n",
    "    Mutation = None\n",
    "    Best = None\n",
    "    Bestvalue = None\n",
    "\n",
    "    def __init__(self, Genlimit, Size, Mutation):\n",
    "        self.Genlimit = Genlimit\n",
    "        self.Size = Size\n",
    "        self.Mutation = Mutation\n",
    "\n",
    "    def random_start(self):\n",
    "        for i in range(self.Size):\n",
    "            init = []\n",
    "            for j in range(7):\n",
    "                r = random()\n",
    "                init.append(round(r))\n",
    "            self.Population.append([init, self.calculate_fitness(init)])\n",
    "        return True\n",
    "\n",
    "    def calculate_fitness(self, chro):\n",
    "        weight_sum = 0\n",
    "        value_sum = 0\n",
    "        for i in range(len(chro)):\n",
    "            if chro[i] == 1:\n",
    "                weight_sum += self.Weight[i]\n",
    "                value_sum += self.Value[i]\n",
    "        if weight_sum > self.Limit:\n",
    "            return 0\n",
    "        else:\n",
    "            return value_sum\n",
    "\n",
    "    def find_n_fittest(self):\n",
    "        for i in range(len(self.Population)):\n",
    "            for j in range(i, len(self.Population)):\n",
    "                if self.Population[i][1] < self.Population[j][1]:\n",
    "                    temp = self.Population[i]\n",
    "                    self.Population[i] = self.Population[j]\n",
    "                    self.Population[j] = temp\n",
    "        self.Population=self.Population[:round(self.Size/2)]\n",
    "    \n",
    "    def generate_possiblity_list(self):\n",
    "        self.possibility_list=[]\n",
    "        fsum=0\n",
    "        \n",
    "        for i in self.Population:\n",
    "            fsum+=i[1]\n",
    "            \n",
    "        afsum=0\n",
    "        for i in self.Population:\n",
    "            afsum+=float(i[1]/fsum)\n",
    "            self.possibility_list.append(afsum)\n",
    "    \n",
    "    def generate_next_generation(self):\n",
    "        \n",
    "        crossover_result=[]\n",
    "        \n",
    "        for i in range(self.Size):\n",
    "            r = random()\n",
    "            for p in range(len(self.possibility_list)):\n",
    "                if r < self.possibility_list[p]:\n",
    "                    p1=p\n",
    "                    break\n",
    "                    \n",
    "            r = random()\n",
    "            for p in range(len(self.possibility_list)):\n",
    "                if r < self.possibility_list[p]:\n",
    "                    p2=p\n",
    "                    break\n",
    "            \n",
    "            crossover_result.append(crossover(self.Population[p1],self.Population[p2]))\n",
    "        \n",
    "        self.Population=[]\n",
    "        for i in crossover_result:\n",
    "            self.Population.append([mutation(i),self.calculate_fitness(mutation(i))])\n",
    "        return True\n",
    "            \n",
    "    def choose_best_individual(self):\n",
    "        maxi=[]\n",
    "        maxvalue=0\n",
    "        for i in self.Population:\n",
    "            if maxvalue < i[1]:\n",
    "                maxvalue = i[1]\n",
    "                maxi = i\n",
    "        \n",
    "        self.Best = maxi\n",
    "        self.Bestvalue = maxvalue\n",
    "        return True\n",
    "    \n",
    "    \n",
    "    def run(self):\n",
    "        self.random_start()\n",
    "        self.choose_best_individual()\n",
    "        for i in range(self.Size):\n",
    "            self.find_n_fittest()\n",
    "            self.generate_possiblity_list()\n",
    "            self.generate_next_generation()\n",
    "            self.choose_best_individual()\n",
    "        \n",
    "        print(self.Best)\n",
    "            \n",
    "            \n",
    "            "
   ]
  },
  {
   "cell_type": "code",
   "execution_count": 212,
   "metadata": {},
   "outputs": [],
   "source": [
    "g = Genetic(10, 20, 0.5)"
   ]
  },
  {
   "cell_type": "code",
   "execution_count": 213,
   "metadata": {},
   "outputs": [
    {
     "name": "stdout",
     "output_type": "stream",
     "text": [
      "[[1, 1, 0, 0, 0, 1, 0], 20]\n"
     ]
    }
   ],
   "source": [
    "g.run()"
   ]
  },
  {
   "cell_type": "code",
   "execution_count": 208,
   "metadata": {},
   "outputs": [
    {
     "data": {
      "text/plain": [
       "[]"
      ]
     },
     "execution_count": 208,
     "metadata": {},
     "output_type": "execute_result"
    }
   ],
   "source": [
    "g.Population"
   ]
  },
  {
   "cell_type": "code",
   "execution_count": 205,
   "metadata": {},
   "outputs": [
    {
     "data": {
      "text/plain": [
       "[]"
      ]
     },
     "execution_count": 205,
     "metadata": {},
     "output_type": "execute_result"
    }
   ],
   "source": [
    "g.possibility_list"
   ]
  },
  {
   "cell_type": "code",
   "execution_count": 187,
   "metadata": {},
   "outputs": [
    {
     "data": {
      "text/plain": [
       "True"
      ]
     },
     "execution_count": 187,
     "metadata": {},
     "output_type": "execute_result"
    }
   ],
   "source": [
    "g.random_start()"
   ]
  },
  {
   "cell_type": "code",
   "execution_count": 188,
   "metadata": {},
   "outputs": [
    {
     "data": {
      "text/plain": [
       "[[[0, 0, 0, 1, 1, 1, 0], 0],\n",
       " [[0, 0, 1, 0, 0, 0, 0], 8],\n",
       " [[0, 1, 1, 0, 0, 1, 1], 0],\n",
       " [[1, 1, 1, 0, 0, 0, 0], 19],\n",
       " [[1, 1, 1, 0, 1, 0, 0], 0],\n",
       " [[1, 1, 0, 0, 1, 0, 0], 17],\n",
       " [[1, 0, 0, 1, 0, 0, 1], 0],\n",
       " [[0, 1, 0, 1, 0, 0, 0], 12],\n",
       " [[0, 0, 0, 0, 0, 0, 1], 4],\n",
       " [[0, 1, 0, 1, 0, 1, 0], 0],\n",
       " [[1, 0, 1, 1, 0, 1, 1], 0],\n",
       " [[1, 0, 1, 0, 0, 0, 1], 18],\n",
       " [[1, 1, 0, 1, 0, 1, 0], 0],\n",
       " [[0, 1, 1, 0, 0, 0, 0], 13],\n",
       " [[0, 0, 1, 0, 1, 1, 0], 0],\n",
       " [[1, 0, 0, 1, 1, 0, 0], 0],\n",
       " [[0, 1, 0, 0, 0, 0, 1], 9],\n",
       " [[1, 0, 0, 0, 0, 0, 0], 6],\n",
       " [[1, 1, 0, 0, 0, 1, 0], 20],\n",
       " [[1, 0, 1, 0, 0, 1, 1], 0]]"
      ]
     },
     "execution_count": 188,
     "metadata": {},
     "output_type": "execute_result"
    }
   ],
   "source": [
    "g.Population"
   ]
  },
  {
   "cell_type": "code",
   "execution_count": 189,
   "metadata": {},
   "outputs": [],
   "source": [
    "g.find_n_fittest()"
   ]
  },
  {
   "cell_type": "code",
   "execution_count": 190,
   "metadata": {},
   "outputs": [
    {
     "data": {
      "text/plain": [
       "10"
      ]
     },
     "execution_count": 190,
     "metadata": {},
     "output_type": "execute_result"
    }
   ],
   "source": [
    "len(g.Population)"
   ]
  },
  {
   "cell_type": "code",
   "execution_count": 191,
   "metadata": {},
   "outputs": [
    {
     "data": {
      "text/plain": [
       "[[[1, 1, 0, 0, 0, 1, 0], 20],\n",
       " [[1, 1, 1, 0, 0, 0, 0], 19],\n",
       " [[1, 0, 1, 0, 0, 0, 1], 18],\n",
       " [[1, 1, 0, 0, 1, 0, 0], 17],\n",
       " [[0, 1, 1, 0, 0, 0, 0], 13],\n",
       " [[0, 1, 0, 1, 0, 0, 0], 12],\n",
       " [[0, 1, 0, 0, 0, 0, 1], 9],\n",
       " [[0, 0, 1, 0, 0, 0, 0], 8],\n",
       " [[1, 0, 0, 0, 0, 0, 0], 6],\n",
       " [[0, 0, 0, 0, 0, 0, 1], 4]]"
      ]
     },
     "execution_count": 191,
     "metadata": {},
     "output_type": "execute_result"
    }
   ],
   "source": [
    "g.Population"
   ]
  },
  {
   "cell_type": "code",
   "execution_count": 192,
   "metadata": {},
   "outputs": [],
   "source": [
    "g.generate_possiblity_list()"
   ]
  },
  {
   "cell_type": "code",
   "execution_count": 193,
   "metadata": {},
   "outputs": [
    {
     "data": {
      "text/plain": [
       "[0.15873015873015872,\n",
       " 0.30952380952380953,\n",
       " 0.4523809523809524,\n",
       " 0.5873015873015873,\n",
       " 0.6904761904761905,\n",
       " 0.7857142857142857,\n",
       " 0.8571428571428571,\n",
       " 0.9206349206349206,\n",
       " 0.9682539682539681,\n",
       " 0.9999999999999999]"
      ]
     },
     "execution_count": 193,
     "metadata": {},
     "output_type": "execute_result"
    }
   ],
   "source": [
    "g.possibility_list"
   ]
  },
  {
   "cell_type": "code",
   "execution_count": 194,
   "metadata": {},
   "outputs": [
    {
     "data": {
      "text/plain": [
       "True"
      ]
     },
     "execution_count": 194,
     "metadata": {},
     "output_type": "execute_result"
    }
   ],
   "source": [
    "g.generate_next_generation()"
   ]
  },
  {
   "cell_type": "code",
   "execution_count": 195,
   "metadata": {},
   "outputs": [
    {
     "data": {
      "text/plain": [
       "[[[0, 0, 1, 0, 0, 0, 1], 12],\n",
       " [[1, 1, 1, 0, 0, 0, 0], 19],\n",
       " [[0, 1, 0, 0, 1, 0, 0], 11],\n",
       " [[0, 1, 1, 0, 0, 0, 0], 13],\n",
       " [[0, 0, 0, 0, 0, 1, 0], 9],\n",
       " [[0, 1, 1, 0, 0, 0, 0], 13],\n",
       " [[1, 1, 0, 0, 1, 0, 0], 17],\n",
       " [[0, 1, 0, 0, 1, 0, 0], 11],\n",
       " [[0, 1, 0, 0, 0, 1, 0], 14],\n",
       " [[1, 1, 0, 0, 1, 0, 0], 17],\n",
       " [[0, 0, 1, 0, 0, 0, 0], 8],\n",
       " [[0, 1, 1, 0, 0, 0, 0], 13],\n",
       " [[1, 1, 0, 0, 0, 0, 1], 15],\n",
       " [[1, 1, 1, 0, 0, 0, 0], 19],\n",
       " [[0, 1, 0, 0, 1, 0, 0], 11],\n",
       " [[0, 1, 0, 0, 0, 1, 0], 14],\n",
       " [[0, 1, 0, 0, 1, 0, 0], 11],\n",
       " [[0, 0, 1, 0, 0, 0, 0], 8],\n",
       " [[0, 1, 1, 0, 0, 0, 0], 13],\n",
       " [[1, 0, 1, 0, 0, 0, 0], 14]]"
      ]
     },
     "execution_count": 195,
     "metadata": {},
     "output_type": "execute_result"
    }
   ],
   "source": [
    "g.Population"
   ]
  },
  {
   "cell_type": "code",
   "execution_count": null,
   "metadata": {},
   "outputs": [],
   "source": []
  },
  {
   "cell_type": "code",
   "execution_count": 196,
   "metadata": {},
   "outputs": [
    {
     "data": {
      "text/plain": [
       "1"
      ]
     },
     "execution_count": 196,
     "metadata": {},
     "output_type": "execute_result"
    }
   ],
   "source": [
    "randint(1,2)"
   ]
  },
  {
   "cell_type": "code",
   "execution_count": 197,
   "metadata": {},
   "outputs": [
    {
     "data": {
      "text/plain": [
       "[1, 2, 3, 4, 5]"
      ]
     },
     "execution_count": 197,
     "metadata": {},
     "output_type": "execute_result"
    }
   ],
   "source": [
    "t"
   ]
  },
  {
   "cell_type": "code",
   "execution_count": 48,
   "metadata": {},
   "outputs": [
    {
     "data": {
      "text/plain": [
       "[1, 2, 3, 4, 5]"
      ]
     },
     "execution_count": 48,
     "metadata": {},
     "output_type": "execute_result"
    }
   ],
   "source": [
    "t[:2]+t[2:]"
   ]
  },
  {
   "cell_type": "code",
   "execution_count": null,
   "metadata": {},
   "outputs": [],
   "source": []
  }
 ],
 "metadata": {
  "kernelspec": {
   "display_name": "Python 3",
   "language": "python",
   "name": "python3"
  },
  "language_info": {
   "codemirror_mode": {
    "name": "ipython",
    "version": 3
   },
   "file_extension": ".py",
   "mimetype": "text/x-python",
   "name": "python",
   "nbconvert_exporter": "python",
   "pygments_lexer": "ipython3",
   "version": "3.7.3"
  }
 },
 "nbformat": 4,
 "nbformat_minor": 2
}
