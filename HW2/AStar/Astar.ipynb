{
 "cells": [
  {
   "cell_type": "code",
   "execution_count": 108,
   "metadata": {},
   "outputs": [],
   "source": [
    "#fontier = []\n",
    "#item = [[step], [state], bcost, fcost, totalcost]"
   ]
  },
  {
   "cell_type": "code",
   "execution_count": 109,
   "metadata": {},
   "outputs": [],
   "source": [
    "import copy"
   ]
  },
  {
   "cell_type": "code",
   "execution_count": 110,
   "metadata": {},
   "outputs": [],
   "source": [
    "def heuristic(state):\n",
    "    h = 0\n",
    "    for i in range(len(state) - 1):\n",
    "        if abs(state[i] - state[i + 1]) > 1:\n",
    "            h += 1\n",
    "    if state[len(state) - 1] != len(state):\n",
    "        h += 1\n",
    "    return h\n",
    "\n",
    "\n",
    "def swap(state, i):\n",
    "    new_state = copy.deepcopy(state)\n",
    "    for j in range(round(i / 2 + 0.1)):\n",
    "        temp = new_state[j]\n",
    "        new_state[j] = new_state[i - j]\n",
    "        new_state[i - j] = temp\n",
    "    return new_state\n",
    "\n",
    "\n",
    "class AstarPancake:\n",
    "    init = []\n",
    "    size = None\n",
    "    queue = []\n",
    "    visited = []\n",
    "    goal = None\n",
    "\n",
    "    def __init__(self, state):\n",
    "        self.init = state\n",
    "        self.size = len(state)\n",
    "        self.queue = [[[], state, 0, heuristic(state), heuristic(state)]]\n",
    "        self.visited = [state]\n",
    "\n",
    "    def sort(self):\n",
    "        for i in range(len(self.queue)):\n",
    "            for j in range(i, len(self.queue)):\n",
    "                if self.queue[i][4] < self.queue[j][4]:\n",
    "                    temp = self.queue[i]\n",
    "                    self.queue[i] = self.queue[j]\n",
    "                    self.queue[j] = temp\n",
    "                # elif self.queue[i][4]==self.queue[j][4]:\n",
    "                # if self.queue[i][3]<self.queue[j][3]:\n",
    "                # temp = self.queue[i]\n",
    "                # self.queue[i] = self.queue[j]\n",
    "                # self.queue[j] = temp\n",
    "        return True\n",
    "\n",
    "    def extend(self):\n",
    "        extendstate = self.queue.pop()\n",
    "        print(extendstate)\n",
    "        for i in range(1, self.size):\n",
    "            new_step = copy.deepcopy(extendstate[0])\n",
    "            new_step.append(i)\n",
    "            new_state = copy.deepcopy(extendstate[1])\n",
    "            new_state = swap(new_state, i)\n",
    "            new_bcost = extendstate[2] + 1\n",
    "            new_fcost = heuristic(new_state)\n",
    "            new_total = new_fcost + new_bcost\n",
    "            if new_state not in self.visited:\n",
    "                self.queue.append(\n",
    "                    [new_step, new_state, new_bcost, new_fcost, new_total])\n",
    "                self.visited.append(new_state)\n",
    "\n",
    "        self.sort()\n",
    "        return True\n",
    "\n",
    "    def goaltest(self):\n",
    "        for i in self.queue:\n",
    "            if i[1] == list(range(1, self.size + 1)):\n",
    "                self.goal = i\n",
    "                return True\n",
    "\n",
    "        return False\n",
    "\n",
    "    def run(self):\n",
    "        while not self.goaltest():\n",
    "            self.extend()\n",
    "        return self.goal\n",
    "\n",
    "    def print_step(self):\n",
    "        if self.goal is not None:\n",
    "            print(self.init)\n",
    "            step = copy.deepcopy(self.init)\n",
    "            for i in self.goal[0]:\n",
    "                i = copy.deepcopy(i)\n",
    "                step = swap(step, i)\n",
    "                print(step)\n",
    "            return True\n",
    "        return False\n",
    "\n"
   ]
  },
  {
   "cell_type": "code",
   "execution_count": 115,
   "metadata": {},
   "outputs": [
    {
     "data": {
      "text/plain": [
       "[[[], [4, 5, 2, 1, 3], 0, 3, 3]]"
      ]
     },
     "execution_count": 115,
     "metadata": {},
     "output_type": "execute_result"
    }
   ],
   "source": [
    "#init = [3, 2, 5, 1, 6, 4, 7, 10, 8, 15, 14, 9, 13, 12, 11]\n",
    "#init = [3, 2, 5, 1, 6, 4, 7]\n",
    "#init = [8,3,7,9,1,6,4,5,2]\n",
    "init = [4,5,2,1,3]\n",
    "p = AstarPancake(init)\n",
    "p.queue"
   ]
  },
  {
   "cell_type": "code",
   "execution_count": 112,
   "metadata": {},
   "outputs": [
    {
     "name": "stdout",
     "output_type": "stream",
     "text": [
      "[[], [4, 5, 2, 1, 3], 0, 3, 3]\n",
      "[[3], [1, 2, 5, 4, 3], 1, 2, 3]\n",
      "[[3, 4], [3, 4, 5, 2, 1], 2, 2, 4]\n",
      "[[3, 1], [2, 1, 5, 4, 3], 2, 2, 4]\n",
      "[[3, 4, 2], [5, 4, 3, 2, 1], 3, 1, 4]\n"
     ]
    },
    {
     "data": {
      "text/plain": [
       "[[3, 4, 2, 4], [1, 2, 3, 4, 5], 4, 0, 4]"
      ]
     },
     "execution_count": 112,
     "metadata": {},
     "output_type": "execute_result"
    }
   ],
   "source": [
    "p.run()"
   ]
  },
  {
   "cell_type": "code",
   "execution_count": 113,
   "metadata": {},
   "outputs": [
    {
     "name": "stdout",
     "output_type": "stream",
     "text": [
      "[4, 5, 2, 1, 3]\n",
      "[1, 2, 5, 4, 3]\n",
      "[3, 4, 5, 2, 1]\n",
      "[5, 4, 3, 2, 1]\n",
      "[1, 2, 3, 4, 5]\n"
     ]
    }
   ],
   "source": [
    "print(init)\n",
    "step = copy.deepcopy(init)\n",
    "for i in p.goal[0]:\n",
    "    step = swap(step, i)\n",
    "    print(step)"
   ]
  },
  {
   "cell_type": "code",
   "execution_count": 116,
   "metadata": {},
   "outputs": [
    {
     "data": {
      "text/plain": [
       "False"
      ]
     },
     "execution_count": 116,
     "metadata": {},
     "output_type": "execute_result"
    }
   ],
   "source": [
    "p.print_step()"
   ]
  },
  {
   "cell_type": "code",
   "execution_count": 35,
   "metadata": {
    "scrolled": true
   },
   "outputs": [
    {
     "data": {
      "text/plain": [
       "10"
      ]
     },
     "execution_count": 35,
     "metadata": {},
     "output_type": "execute_result"
    }
   ],
   "source": [
    "len(p.queue)"
   ]
  },
  {
   "cell_type": "code",
   "execution_count": 20,
   "metadata": {},
   "outputs": [
    {
     "data": {
      "text/plain": [
       "[[[], [3, 1, 4, 2], 0, 3, 3]]"
      ]
     },
     "execution_count": 20,
     "metadata": {},
     "output_type": "execute_result"
    }
   ],
   "source": [
    "q = AstarPancake([3, 1, 4, 2])\n",
    "q.queue"
   ]
  },
  {
   "cell_type": "code",
   "execution_count": 21,
   "metadata": {},
   "outputs": [
    {
     "name": "stdout",
     "output_type": "stream",
     "text": [
      "[[], [3, 1, 4, 2], 0, 3, 3]\n",
      "[[1], [1, 3, 4, 2], 1, 2, 3]\n",
      "[[1, 2], [4, 3, 1, 2], 2, 1, 3]\n",
      "[[2], [4, 1, 3, 2], 1, 2, 3]\n",
      "[[2, 1], [1, 4, 3, 2], 2, 1, 3]\n",
      "[[2, 1, 3], [2, 3, 4, 1], 3, 1, 4]\n",
      "[[2, 1, 3, 2], [4, 3, 2, 1], 4, 0, 4]\n"
     ]
    },
    {
     "data": {
      "text/plain": [
       "[[2, 1, 3, 2, 3], [1, 2, 3, 4], 5, 0, 5]"
      ]
     },
     "execution_count": 21,
     "metadata": {},
     "output_type": "execute_result"
    }
   ],
   "source": [
    "q.run()"
   ]
  },
  {
   "cell_type": "code",
   "execution_count": null,
   "metadata": {},
   "outputs": [],
   "source": []
  },
  {
   "cell_type": "code",
   "execution_count": 98,
   "metadata": {},
   "outputs": [],
   "source": [
    "class UCSPancake:\n",
    "    size = None\n",
    "    visited = []\n",
    "    queue = []\n",
    "    goal = None\n",
    "\n",
    "    def __init__(self, state):\n",
    "        self.size = len(state)\n",
    "        self.queue = [[[], state, 0]]\n",
    "        self.visited = [state]\n",
    "\n",
    "    def sort(self):\n",
    "        for i in range(len(self.queue)):\n",
    "            for j in range(i, len(self.queue)):\n",
    "                if self.queue[i][2] < self.queue[j][2]:\n",
    "                    temp = self.queue[i]\n",
    "                    self.queue[i] = self.queue[j]\n",
    "                    self.queue[j] = temp\n",
    "        return True\n",
    "\n",
    "    def extend(self):\n",
    "        extendstate = self.queue.pop()\n",
    "        print(extendstate)\n",
    "        for i in range(1, self.size):\n",
    "            new_step = copy.deepcopy(extendstate[0])\n",
    "            new_step.append(i)\n",
    "            new_state = copy.deepcopy(extendstate[1])\n",
    "\n",
    "            new_state = swap(new_state, i)\n",
    "            new_bcost = extendstate[2]+1\n",
    "\n",
    "            if new_state not in self.visited:\n",
    "                self.queue.append([new_step, new_state, new_bcost])\n",
    "                self.visited.append(new_state)\n",
    "\n",
    "        self.sort()\n",
    "        return True\n",
    "\n",
    "    def goaltest(self):\n",
    "        for i in self.queue:\n",
    "            if i[1] == list(range(1, self.size+1)):\n",
    "                self.goal = i\n",
    "                return True\n",
    "\n",
    "        return False\n",
    "\n",
    "    def run(self):\n",
    "        while(self.goaltest() == False):\n",
    "            self.extend()\n",
    "        return self.goal"
   ]
  },
  {
   "cell_type": "code",
   "execution_count": 99,
   "metadata": {},
   "outputs": [
    {
     "data": {
      "text/plain": [
       "[[[], [4, 5, 2, 1, 3], 0]]"
      ]
     },
     "execution_count": 99,
     "metadata": {},
     "output_type": "execute_result"
    }
   ],
   "source": [
    "init = [4,5,2,1,3]\n",
    "p = UCSPancake(init)\n",
    "p.queue"
   ]
  },
  {
   "cell_type": "code",
   "execution_count": 100,
   "metadata": {},
   "outputs": [
    {
     "name": "stdout",
     "output_type": "stream",
     "text": [
      "[[], [4, 5, 2, 1, 3], 0]\n",
      "[[4], [3, 1, 2, 5, 4], 1]\n",
      "[[3], [1, 2, 5, 4, 3], 1]\n",
      "[[1], [5, 4, 2, 1, 3], 1]\n",
      "[[2], [2, 5, 4, 1, 3], 1]\n",
      "[[2, 4], [3, 1, 4, 5, 2], 2]\n",
      "[[4, 3], [5, 2, 1, 3, 4], 2]\n",
      "[[3, 4], [3, 4, 5, 2, 1], 2]\n",
      "[[1, 4], [3, 1, 2, 4, 5], 2]\n",
      "[[4, 1], [1, 3, 2, 5, 4], 2]\n",
      "[[3, 2], [5, 2, 1, 4, 3], 2]\n",
      "[[2, 1], [5, 2, 4, 1, 3], 2]\n",
      "[[3, 1], [2, 1, 5, 4, 3], 2]\n",
      "[[2, 3], [1, 4, 5, 2, 3], 2]\n",
      "[[1, 3], [1, 2, 4, 5, 3], 2]\n",
      "[[4, 2], [2, 1, 3, 5, 4], 2]\n",
      "[[1, 2], [2, 4, 5, 1, 3], 2]\n",
      "[[1, 2, 4], [3, 1, 5, 4, 2], 3]\n",
      "[[2, 4, 3], [5, 4, 1, 3, 2], 3]\n",
      "[[4, 3, 2], [1, 2, 5, 3, 4], 3]\n",
      "[[3, 4, 1], [4, 3, 5, 2, 1], 3]\n",
      "[[3, 4, 3], [2, 5, 4, 3, 1], 3]\n",
      "[[1, 4, 1], [1, 3, 2, 4, 5], 3]\n",
      "[[1, 4, 3], [4, 2, 1, 3, 5], 3]\n",
      "[[4, 1, 3], [5, 2, 3, 1, 4], 3]\n",
      "[[3, 2, 3], [4, 1, 2, 5, 3], 3]\n",
      "[[3, 2, 1], [2, 5, 1, 4, 3], 3]\n",
      "[[2, 1, 2], [4, 2, 5, 1, 3], 3]\n",
      "[[2, 1, 3], [1, 4, 2, 5, 3], 3]\n",
      "[[3, 1, 2], [5, 1, 2, 4, 3], 3]\n",
      "[[3, 1, 3], [4, 5, 1, 2, 3], 3]\n",
      "[[3, 1, 4], [3, 4, 5, 1, 2], 3]\n",
      "[[2, 3, 4], [3, 2, 5, 4, 1], 3]\n",
      "[[1, 3, 2], [4, 2, 1, 5, 3], 3]\n",
      "[[1, 3, 4], [3, 5, 4, 2, 1], 3]\n",
      "[[4, 2, 3], [5, 3, 1, 2, 4], 3]\n",
      "[[4, 2, 4], [4, 5, 3, 1, 2], 3]\n",
      "[[1, 2, 3], [1, 5, 4, 2, 3], 3]\n",
      "[[2, 4, 2], [4, 1, 3, 5, 2], 3]\n",
      "[[4, 3, 4], [4, 3, 1, 2, 5], 3]\n",
      "[[3, 4, 2], [5, 4, 3, 2, 1], 3]\n"
     ]
    },
    {
     "data": {
      "text/plain": [
       "[[3, 4, 2, 4], [1, 2, 3, 4, 5], 4]"
      ]
     },
     "execution_count": 100,
     "metadata": {},
     "output_type": "execute_result"
    }
   ],
   "source": [
    "p.run()"
   ]
  },
  {
   "cell_type": "code",
   "execution_count": null,
   "metadata": {},
   "outputs": [],
   "source": [
    "len(p.queue)"
   ]
  },
  {
   "cell_type": "code",
   "execution_count": 4,
   "metadata": {},
   "outputs": [
    {
     "data": {
      "text/plain": [
       "6"
      ]
     },
     "execution_count": 4,
     "metadata": {},
     "output_type": "execute_result"
    }
   ],
   "source": [
    "heuristic([1, 4, 2, 7, 5, 3, 6])"
   ]
  },
  {
   "cell_type": "code",
   "execution_count": null,
   "metadata": {},
   "outputs": [],
   "source": []
  }
 ],
 "metadata": {
  "kernelspec": {
   "display_name": "Python 3",
   "language": "python",
   "name": "python3"
  },
  "language_info": {
   "codemirror_mode": {
    "name": "ipython",
    "version": 3
   },
   "file_extension": ".py",
   "mimetype": "text/x-python",
   "name": "python",
   "nbconvert_exporter": "python",
   "pygments_lexer": "ipython3",
   "version": "3.7.3"
  }
 },
 "nbformat": 4,
 "nbformat_minor": 2
}
